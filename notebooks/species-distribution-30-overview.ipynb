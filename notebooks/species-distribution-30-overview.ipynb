{
  "cells": [
    {
      "cell_type": "markdown",
      "id": "b7e7dc48-3ce6-452d-bd75-09fca2f00c2b",
      "metadata": {},
      "source": [
        "# \n",
        "\n",
        "<link rel=\"stylesheet\" type=\"text/css\" href=\"./assets/styles.css\"><div class=\"callout callout-style-default callout-titled callout-response\"><div class=\"callout-header\"><div class=\"callout-icon-container\"><i class=\"callout-icon\"></i></div><div class=\"callout-title-container flex-fill\">What can we learn from migration patterns?</div></div><div class=\"callout-body-container callout-body\"><p>In the cell below, reflect on what you know about migration. You\n",
        "could consider:</p>\n",
        "<ol type=\"1\">\n",
        "<li>What are some reasons that animals migrate?</li>\n",
        "<li>How might climate change affect animal migrations?</li>\n",
        "<li>Do you notice any animal migrations in your area?</li>\n",
        "</ol></div></div>"
      ]
    },
    {
      "cell_type": "markdown",
      "id": "09ea9f1d-2434-41ec-9d7b-65eb3153d6d6",
      "metadata": {},
      "source": [
        "YOUR ANSWER HERE"
      ]
    },
    {
      "cell_type": "markdown",
      "id": "3021832b",
      "metadata": {},
      "source": [
        "1. Migration reasons for animals include change in climate at different times of year, such as for food sources or safety &/or opportunities during reproduction.\n",
        "2. Climate change may create different habitat areas than before a change.\n",
        "3. In Colorado, [some Canada geese migrate and some stay in the area](https://cpw.state.co.us/species/canada-goose#:~:text=While%20many%20geese%20have%20become,of%20Mexico%20in%20the%20winter.). [Monarch butterflies](https://www.nps.gov/subjects/pollinators/migratingmonarchs.htm) migrate {those in the eastern US take multiple generations} and male [Oklahoma brown tarantulas](https://www.cbsnews.com/colorado/news/tarantulas-mate-southeastern-colorado/) migrate (to mate)."
      ]
    }
  ],
  "metadata": {
    "kernelspec": {
      "display_name": "Python 3",
      "language": "python",
      "name": "python3"
    }
  },
  "nbformat": 4,
  "nbformat_minor": 5
}
